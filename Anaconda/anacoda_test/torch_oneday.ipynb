{
 "cells": [
  {
   "cell_type": "code",
   "execution_count": 1,
   "metadata": {},
   "outputs": [],
   "source": [
    "import torch\n",
    "import numpy as np"
   ]
  },
  {
   "cell_type": "code",
   "execution_count": 6,
   "metadata": {},
   "outputs": [
    {
     "name": "stdout",
     "output_type": "stream",
     "text": [
      "float32\n",
      "12\n"
     ]
    }
   ],
   "source": [
    "x = torch.randn(3*4)\n",
    "x.type()\n",
    "y = x.numpy()\n",
    "print(y.dtype)\n",
    "print(x.numel())"
   ]
  },
  {
   "cell_type": "code",
   "execution_count": 8,
   "metadata": {},
   "outputs": [
    {
     "name": "stdout",
     "output_type": "stream",
     "text": [
      "tensor([[-0.4563,  0.7279, -0.3347, -1.7197,  1.0576],\n",
      "        [ 0.1779,  0.8899,  2.0291,  0.1815, -0.3856],\n",
      "        [-0.8819, -1.7528,  0.7560, -0.8939, -1.1680],\n",
      "        [-1.1267,  0.3262,  0.7798,  2.2239,  0.6662],\n",
      "        [-0.1442,  0.7446, -1.0234, -0.7451, -0.0929],\n",
      "        [ 1.2125, -0.7968,  0.7194, -0.4706, -1.3692],\n",
      "        [-0.5934, -0.7727, -0.7585,  0.1937,  1.4404],\n",
      "        [-1.6252,  0.1320,  2.1591,  1.0231,  1.1980],\n",
      "        [ 0.2754, -1.8066,  0.8304, -1.5533,  1.3225],\n",
      "        [ 0.0383, -0.2934,  0.9173,  0.3243,  0.6949]])\n",
      "tensor([[-0.6253,  0.6158,  0.6725,  2.0651,  1.3606],\n",
      "        [ 2.0579,  0.2336, -0.2376,  1.1345,  1.2970],\n",
      "        [-0.5986, -0.4224,  0.2239,  0.8484, -0.9364],\n",
      "        [-0.5179, -1.3627,  0.4067, -0.6270, -3.1503],\n",
      "        [ 0.0928, -0.3852, -0.6208, -2.0005, -1.0524],\n",
      "        [ 0.2331, -0.5012,  1.4590,  0.7756,  0.7914],\n",
      "        [ 0.4696,  1.2955, -0.1307, -1.2128, -0.6968],\n",
      "        [ 0.5551,  0.1290, -0.1030, -2.3852,  0.6149],\n",
      "        [ 1.7997, -1.6665, -1.0329, -0.5588,  0.3139],\n",
      "        [ 1.2912,  0.1466, -0.4833,  1.1842, -0.4624]])\n",
      "tensor(2.5739)\n"
     ]
    }
   ],
   "source": [
    "from torch.autograd import Variable\n",
    "x_tensor = torch.randn(10, 5)\n",
    "y_tensor = torch.randn(10, 5)\n",
    "\n",
    "# 将 tensor 变成 Variable\n",
    "x = Variable(x_tensor, requires_grad=True) # 默认 Variable 是不需要求梯度的，所以我们用这个方式申明需要对其进行求梯度\n",
    "y = Variable(y_tensor, requires_grad=True)\n",
    "\n",
    "\n",
    "z = z = torch.sum(x + y)\n",
    "print(x.data)\n",
    "print (y.data)\n",
    "print(z.data)"
   ]
  },
  {
   "cell_type": "code",
   "execution_count": 2,
   "metadata": {},
   "outputs": [],
   "source": [
    "import torch\n",
    "from torch.autograd import Variable\n",
    "import numpy as np\n",
    "import matplotlib.pyplot as plt\n",
    "import cv2\n"
   ]
  }
 ],
 "metadata": {
  "kernelspec": {
   "display_name": "Python [conda env:pytorch]",
   "language": "python",
   "name": "conda-env-pytorch-py"
  },
  "language_info": {
   "codemirror_mode": {
    "name": "ipython",
    "version": 3
   },
   "file_extension": ".py",
   "mimetype": "text/x-python",
   "name": "python",
   "nbconvert_exporter": "python",
   "pygments_lexer": "ipython3",
   "version": "3.8.5"
  }
 },
 "nbformat": 4,
 "nbformat_minor": 4
}
